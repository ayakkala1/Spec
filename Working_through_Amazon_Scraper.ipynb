{
 "cells": [
  {
   "cell_type": "code",
   "execution_count": 1,
   "metadata": {},
   "outputs": [],
   "source": [
    "from lxml import html\n",
    "from json import dump,loads\n",
    "from requests import get\n",
    "import json\n",
    "from re import sub\n",
    "from dateutil import parser as dateparser\n",
    "from time import sleep"
   ]
  },
  {
   "cell_type": "code",
   "execution_count": 2,
   "metadata": {},
   "outputs": [],
   "source": [
    "amazon_url  = ('https://www.amazon.com/product-reviews/{0}/ref=cm_cr_getr_d_paging_btm_1?ie=UTF8&reviewerType=all_reviews&pageNumber=1'\n",
    "    .format(\"B01DFKC2SO\")) #asin is unique amazon id\n",
    "\n",
    "headers = {'User-Agent': 'Mozilla/5.0 (X11; Linux x86_64) AppleWebKit/537.36 (KHTML, like Gecko) Chrome/62.0.3202.94 Safari/537.36'}"
   ]
  },
  {
   "cell_type": "code",
   "execution_count": 3,
   "metadata": {},
   "outputs": [
    {
     "name": "stderr",
     "output_type": "stream",
     "text": [
      "/Library/Frameworks/Python.framework/Versions/3.6/lib/python3.6/site-packages/urllib3/connectionpool.py:847: InsecureRequestWarning: Unverified HTTPS request is being made. Adding certificate verification is strongly advised. See: https://urllib3.readthedocs.io/en/latest/advanced-usage.html#ssl-warnings\n",
      "  InsecureRequestWarning)\n"
     ]
    }
   ],
   "source": [
    "response = get(amazon_url, headers = headers, verify=False, timeout=30)"
   ]
  },
  {
   "cell_type": "code",
   "execution_count": 4,
   "metadata": {},
   "outputs": [
    {
     "data": {
      "text/plain": [
       "<Response [200]>"
      ]
     },
     "execution_count": 4,
     "metadata": {},
     "output_type": "execute_result"
    }
   ],
   "source": [
    "response"
   ]
  },
  {
   "cell_type": "code",
   "execution_count": 5,
   "metadata": {},
   "outputs": [],
   "source": [
    "cleaned_response = response.text.replace('\\x00', '')"
   ]
  },
  {
   "cell_type": "code",
   "execution_count": 6,
   "metadata": {},
   "outputs": [],
   "source": [
    "parser = html.fromstring(cleaned_response)"
   ]
  },
  {
   "cell_type": "code",
   "execution_count": 7,
   "metadata": {},
   "outputs": [],
   "source": [
    "XPATH_AGGREGATE = '//span[@id=\"acrCustomerReviewText\"]'\n",
    "XPATH_REVIEW_SECTION_1 = '//div[contains(@id,\"reviews-summary\")]'\n",
    "XPATH_REVIEW_SECTION_2 = '//div[@data-hook=\"review\"]'\n",
    "XPATH_AGGREGATE_RATING = '//table[@id=\"histogramTable\"]//tr'\n",
    "XPATH_PRODUCT_NAME = '//h1//span[@id=\"productTitle\"]//text()'\n",
    "XPATH_PRODUCT_PRICE = '//span[@id=\"priceblock_ourprice\"]/text()'\n",
    "\n",
    "raw_product_price = parser.xpath(XPATH_PRODUCT_PRICE)\n",
    "raw_product_name = parser.xpath(XPATH_PRODUCT_NAME)\n",
    "total_ratings  = parser.xpath(XPATH_AGGREGATE_RATING)\n",
    "reviews = parser.xpath(XPATH_REVIEW_SECTION_1)\n",
    "\n",
    "product_price = ''.join(raw_product_price).replace(',', '')\n",
    "product_name = ''.join(raw_product_name).strip()\n",
    "if not reviews:\n",
    "            reviews = parser.xpath(XPATH_REVIEW_SECTION_2)\n",
    "ratings_dict = {}\n",
    "reviews_list = []"
   ]
  },
  {
   "cell_type": "code",
   "execution_count": 8,
   "metadata": {},
   "outputs": [],
   "source": [
    "XPATH_RATING  = './/i[@data-hook=\"review-star-rating\"]//text()'\n",
    "XPATH_REVIEW_HEADER = './/a[@data-hook=\"review-title\"]//text()'\n",
    "XPATH_REVIEW_POSTED_DATE = './/span[@data-hook=\"review-date\"]//text()'\n",
    "XPATH_REVIEW_TEXT_1 = './/div[@class=\"a-row a-spacing-small review-data\"]//text()'\n",
    "XPATH_REVIEW_TEXT_2 = './/div//span[@data-action=\"columnbalancing-showfullreview\"]/@data-columnbalancing-showfullreview'\n",
    "XPATH_REVIEW_COMMENTS = './/span[@data-hook=\"review-comment\"]//text()'\n",
    "XPATH_AUTHOR = './/span[contains(@class,\"profile-name\")]//text()'\n",
    "XPATH_REVIEW_TEXT_3 = './/div[contains(@id,\"dpReviews\")]/div/text()'"
   ]
  },
  {
   "cell_type": "code",
   "execution_count": 9,
   "metadata": {},
   "outputs": [
    {
     "data": {
      "text/plain": [
       "[\"So, I fired Siri today. I'm not sure she understood, for she has never understood me. So, we did an 'uncoupling'. She didn't take it well, especially when she found out about Alexa, she somehow was back stalking my phone. Siri even tried to overpower Alexa, setting herself to a default setting, I never knew exsisted. I tried explaining that Alexa really listens to me, understands my wants and needs, even tells me jokes! Again, Siri said she couldn't understand me. As Alexa and I grew in our new relationship, she now takes care of most of my needs. She turns on my outside lights, she tells me if I need to leave for work earlier, due to weather. I can ask her if my flight is on time at the airport and how long it will take me to get to my destination. Alexa even likes hockey! She knows all the current trades and rosters, can record my favorite team on tv and remind me to watch it. Also, since I don't like the tv announcers, I can ask Alexa to stream the radio broadcasters for the game instead and she will even mute the tv. She did tell me, she can vacuum for me, but my current roomba doesn't except her calls, maybe the roomba will eat another sock and can break up with him, introduce new roomba to Alexa. Maybe I'll ask Alexa to make me some money and smart home my whole house! After several failed attempts to evict Siri, I think she finally gave up and been a peaceful few weeks of lazy bliss. I sit on my couch, Alexa orders me take out, she checks to make sure garage door is closed, doors are secure (one door really, again that money issue) she 'drops in' the kitchen echo to help kids check math homework. If anyone wants something at home that actually listens to you and does what you ask, Alexa is your girl. She's so much more than music and temperature checks. With a little fun research, your ex Siri will be green with envy at all Alexa can do. Also, many of her skills can be downloaded free or cheap, adding smart outlets and such are not too bad of a price either.\"]"
      ]
     },
     "execution_count": 9,
     "metadata": {},
     "output_type": "execute_result"
    }
   ],
   "source": [
    "raw_review_text1 = reviews[0].xpath(XPATH_REVIEW_TEXT_1)\n",
    "raw_review_text1"
   ]
  },
  {
   "cell_type": "code",
   "execution_count": 10,
   "metadata": {},
   "outputs": [
    {
     "data": {
      "text/plain": [
       "\"So, I fired Siri today. I'm not sure she understood, for she has never understood me. So, we did an 'uncoupling'. She didn't take it well, especially when she found out about Alexa, she somehow was back stalking my phone. Siri even tried to overpower Alexa, setting herself to a default setting, I never knew exsisted. I tried explaining that Alexa really listens to me, understands my wants and needs, even tells me jokes! Again, Siri said she couldn't understand me. As Alexa and I grew in our new relationship, she now takes care of most of my needs. She turns on my outside lights, she tells me if I need to leave for work earlier, due to weather. I can ask her if my flight is on time at the airport and how long it will take me to get to my destination. Alexa even likes hockey! She knows all the current trades and rosters, can record my favorite team on tv and remind me to watch it. Also, since I don't like the tv announcers, I can ask Alexa to stream the radio broadcasters for the game instead and she will even mute the tv. She did tell me, she can vacuum for me, but my current roomba doesn't except her calls, maybe the roomba will eat another sock and can break up with him, introduce new roomba to Alexa. Maybe I'll ask Alexa to make me some money and smart home my whole house! After several failed attempts to evict Siri, I think she finally gave up and been a peaceful few weeks of lazy bliss. I sit on my couch, Alexa orders me take out, she checks to make sure garage door is closed, doors are secure (one door really, again that money issue) she 'drops in' the kitchen echo to help kids check math homework. If anyone wants something at home that actually listens to you and does what you ask, Alexa is your girl. She's so much more than music and temperature checks. With a little fun research, your ex Siri will be green with envy at all Alexa can do. Also, many of her skills can be downloaded free or cheap, adding smart outlets and such are not too bad of a price either.\""
      ]
     },
     "execution_count": 10,
     "metadata": {},
     "output_type": "execute_result"
    }
   ],
   "source": [
    "review_text = ' '.join(' '.join(raw_review_text1).split())\n",
    "review_text"
   ]
  },
  {
   "cell_type": "code",
   "execution_count": 11,
   "metadata": {},
   "outputs": [
    {
     "data": {
      "text/plain": [
       "'411'"
      ]
     },
     "execution_count": 11,
     "metadata": {},
     "output_type": "execute_result"
    }
   ],
   "source": [
    "XPATH_HELPFUL_VOTE = './/span[contains(@data-hook,\"helpful-vote-statement\")]'\n",
    "XPATH_HELPFUL_VOTE_DIV = './/div[@class=\"a-row a-spacing-small\"]'\n",
    "TEST_XPATH = './/div[@class=\"a-size-base a-color-tertiary cr-vote-text\"]//text()'\n",
    "raw_comments = reviews[0].xpath(XPATH_HELPFUL_VOTE_DIV)[0].text_content().split(' ')[0]\n",
    "raw_comments\n",
    "\n"
   ]
  },
  {
   "cell_type": "code",
   "execution_count": 12,
   "metadata": {},
   "outputs": [
    {
     "data": {
      "text/plain": [
       "'6'"
      ]
     },
     "execution_count": 12,
     "metadata": {},
     "output_type": "execute_result"
    }
   ],
   "source": [
    "XPATH_REVIEW_COMMENTS = './/span[@class=\"a-size-base\"]//text()'\n",
    "raw_review_count = reviews[0].xpath(XPATH_REVIEW_COMMENTS)\n",
    "raw_review_count[0][0]"
   ]
  },
  {
   "cell_type": "code",
   "execution_count": 15,
   "metadata": {},
   "outputs": [],
   "source": [
    "XPATH_PRICE = './/span[@class=\"a-color-price arp-price\"]'"
   ]
  },
  {
   "cell_type": "code",
   "execution_count": 19,
   "metadata": {},
   "outputs": [
    {
     "data": {
      "text/plain": [
       "'$44.99'"
      ]
     },
     "execution_count": 19,
     "metadata": {},
     "output_type": "execute_result"
    }
   ],
   "source": [
    "parser.xpath(XPATH_PRICE)[0].text_content().split(' ')[-1]"
   ]
  },
  {
   "cell_type": "code",
   "execution_count": 52,
   "metadata": {},
   "outputs": [],
   "source": [
    "XPATH_NAME = '//h1//div[@data-hook=\"product-link\"]'\n"
   ]
  },
  {
   "cell_type": "code",
   "execution_count": 53,
   "metadata": {},
   "outputs": [
    {
     "data": {
      "text/plain": [
       "[]"
      ]
     },
     "execution_count": 53,
     "metadata": {},
     "output_type": "execute_result"
    }
   ],
   "source": [
    "parser.xpath(XPATH_NAME)"
   ]
  },
  {
   "cell_type": "code",
   "execution_count": null,
   "metadata": {},
   "outputs": [],
   "source": []
  }
 ],
 "metadata": {
  "kernelspec": {
   "display_name": "Python 3",
   "language": "python",
   "name": "python3"
  },
  "language_info": {
   "codemirror_mode": {
    "name": "ipython",
    "version": 3
   },
   "file_extension": ".py",
   "mimetype": "text/x-python",
   "name": "python",
   "nbconvert_exporter": "python",
   "pygments_lexer": "ipython3",
   "version": "3.6.6rc1"
  }
 },
 "nbformat": 4,
 "nbformat_minor": 2
}
