{
 "cells": [
  {
   "cell_type": "code",
   "execution_count": 1,
   "metadata": {},
   "outputs": [],
   "source": [
    "from lxml import html\n",
    "from json import dump,loads\n",
    "from requests import get\n",
    "import json\n",
    "from re import sub\n",
    "from dateutil import parser as dateparser\n",
    "from time import sleep\n",
    "import pandas as pd"
   ]
  },
  {
   "cell_type": "code",
   "execution_count": 2,
   "metadata": {},
   "outputs": [],
   "source": [
    "gsin = 7008326304182003253 # Google Home mini chalk\n",
    "pgnumber = 0\n",
    "google_url  = ('https://www.google.com/shopping/product/{0}/reviews?q=google%20home&biw=1280&bih=639&prds=paur:ClkAsKraX8Po_BNHjxH-Yuazffm_I6ZTl-XFq7J9Cju-IhsWprvvBNQVbAtjPnj9S-0c283EL4MEVkciNKzFUhQXZKcjVzNzGHrLZrnO3-VSZ8ZUtWFeHIPJ5RIZAFPVH70GN1g15WffBXvfhjuFbXBgEL2GyQ,rstart:{1}0&sa=X&ved=0ahUKEwiz2_iUuPXfAhWHhlQKHTSKCMUQqSQI-gE'\n",
    "                .format(gsin,pgnumber))\n",
    "headers = {'User-Agent': 'Mozilla/5.0 (X11; Linux x86_64) AppleWebKit/537.36 (KHTML, like Gecko) Chrome/62.0.3202.94 Safari/537.36'}"
   ]
  },
  {
   "cell_type": "code",
   "execution_count": 3,
   "metadata": {},
   "outputs": [
    {
     "name": "stderr",
     "output_type": "stream",
     "text": [
      "/Library/Frameworks/Python.framework/Versions/3.6/lib/python3.6/site-packages/urllib3/connectionpool.py:847: InsecureRequestWarning: Unverified HTTPS request is being made. Adding certificate verification is strongly advised. See: https://urllib3.readthedocs.io/en/latest/advanced-usage.html#ssl-warnings\n",
      "  InsecureRequestWarning)\n"
     ]
    }
   ],
   "source": [
    "response = get(google_url, headers = headers, verify=False, timeout=30)"
   ]
  },
  {
   "cell_type": "code",
   "execution_count": 4,
   "metadata": {},
   "outputs": [],
   "source": [
    "cleaned_response = response.text.replace('\\x00', '')\n",
    "parser = html.fromstring(cleaned_response)"
   ]
  },
  {
   "cell_type": "code",
   "execution_count": 5,
   "metadata": {},
   "outputs": [],
   "source": [
    "XPATH_AGGREGATE = '//span[@id=\"acrCustomerReviewText\"]'\n",
    "XPATH_REVIEW_SECTION_1 = '//div[contains(@id,\"reviews-summary\")]'\n",
    "XPATH_REVIEW_SECTION_2 = '//div[@data-hook=\"review\"]'\n",
    "XPATH_AGGREGATE_RATING = '//div[@class=\"A85tye tIrLid\"]/@aria-label'\n",
    "XPATH_PRODUCT_NAME = '//h1[@id=\"product-name\"]//text()'\n",
    "XPATH_PRICE = './/span[@class=\"price\"]'"
   ]
  },
  {
   "cell_type": "code",
   "execution_count": 6,
   "metadata": {},
   "outputs": [
    {
     "data": {
      "text/plain": [
       "'$29'"
      ]
     },
     "execution_count": 6,
     "metadata": {},
     "output_type": "execute_result"
    }
   ],
   "source": [
    "parser.xpath(XPATH_PRICE)[0].text_content() #Price Works"
   ]
  },
  {
   "cell_type": "code",
   "execution_count": 7,
   "metadata": {},
   "outputs": [
    {
     "data": {
      "text/plain": [
       "['Google Home Mini Smart Speaker - Chalk']"
      ]
     },
     "execution_count": 7,
     "metadata": {},
     "output_type": "execute_result"
    }
   ],
   "source": [
    "parser.xpath(XPATH_PRODUCT_NAME) #Product name works"
   ]
  },
  {
   "cell_type": "code",
   "execution_count": 8,
   "metadata": {},
   "outputs": [
    {
     "data": {
      "text/plain": [
       "{'5': '10k+', '4': '4,406', '3': '735', '2': '230', '1': '233'}"
      ]
     },
     "execution_count": 8,
     "metadata": {},
     "output_type": "execute_result"
    }
   ],
   "source": [
    "raw_agg_rating = parser.xpath(XPATH_AGGREGATE_RATING)\n",
    "agg_rating = []\n",
    "raw_agg_rating[0]\n",
    "for i in raw_agg_rating:\n",
    "    agg_rating.append(i.split(' '))\n",
    "ratings_dict = {}\n",
    "for j in agg_rating:\n",
    "    rating_key = j[1]\n",
    "    rating_value = j[0]\n",
    "    ratings_dict.update({rating_key: rating_value})\n",
    "ratings_dict\n",
    "\n",
    "#Agg rating works"
   ]
  },
  {
   "cell_type": "code",
   "execution_count": 26,
   "metadata": {},
   "outputs": [],
   "source": [
    "# Parsing individual reviews\n",
    "XPATH_RATING  = './/div[@class=\"vq3ore\"]/@aria-label'\n",
    "XPATH_REVIEW_HEADER = './/span[@class=\"tukK6e\"]//text()'\n",
    "XPATH_REVIEW_POSTED_DATE = './/div[@class=\"shop__secondary\"]//text()'\n",
    "XPATH_REVIEW_TEXT_1 = './/div[@class=\"ESCbSb\"]'\n",
    "XPATH_REVIEW_TEXT_2 = './/div[@class=\"Ge5tnd pd-reviews__user-review-full\"]//text()'\n",
    "#Comments DNE\n",
    "#XPATH_REVIEW_COMMENTS = './/span[@class=\"a-size-base\"]//text()'\n",
    "XPATH_AUTHOR = './/span[contains(@class,\"shop__secondary\")]//text()'\n",
    "XPATH_REVIEW_TEXT_3 = './/div[contains(@id,\"dpReviews\")]/div/text()'\n",
    "#HELPFUL DNE\n",
    "#XPATH_HELPFUL_VOTE_DIV = './/div[@class=\"a-row a-spacing-small\"]'\n",
    "XPATH_FROM = './/span[contains(@class,\"e2q0ib\")]//text()'"
   ]
  },
  {
   "cell_type": "code",
   "execution_count": 27,
   "metadata": {},
   "outputs": [
    {
     "data": {
      "text/plain": [
       "[<Element div at 0x11b923188>,\n",
       " <Element div at 0x11b9239f8>,\n",
       " <Element div at 0x11b9239a8>,\n",
       " <Element div at 0x11b923a98>,\n",
       " <Element div at 0x11b923ae8>,\n",
       " <Element div at 0x11b923b38>,\n",
       " <Element div at 0x11b923b88>,\n",
       " <Element div at 0x11b923bd8>,\n",
       " <Element div at 0x11b923c28>,\n",
       " <Element div at 0x11b923c78>]"
      ]
     },
     "execution_count": 27,
     "metadata": {},
     "output_type": "execute_result"
    }
   ],
   "source": [
    "raw_reviews = parser.xpath(XPATH_REVIEW_TEXT_1)    \n",
    "raw_reviews"
   ]
  },
  {
   "cell_type": "code",
   "execution_count": 31,
   "metadata": {},
   "outputs": [
    {
     "data": {
      "text/plain": [
       "'Best Buy'"
      ]
     },
     "execution_count": 31,
     "metadata": {},
     "output_type": "execute_result"
    }
   ],
   "source": [
    "test8 = raw_reviews[0].xpath(XPATH_REVIEW_TEXT_2) #Review text works\n",
    "raw_reviews[0].xpath(XPATH_REVIEW_POSTED_DATE)[0] #Date works\n",
    "raw_reviews[0].xpath(XPATH_AUTHOR)[1].split(' ')[0] #Author works\n",
    "raw_reviews[0].xpath(XPATH_REVIEW_HEADER)[0] #Header works\n",
    "raw_reviews[0].xpath(XPATH_RATING)[0][0] #Rating works\n",
    "raw_reviews[0].xpath(XPATH_FROM)[0]"
   ]
  },
  {
   "cell_type": "code",
   "execution_count": 32,
   "metadata": {},
   "outputs": [
    {
     "data": {
      "text/plain": [
       "['Disclaimer - I was given this product in return for my fair and honest review.',\n",
       " 'TL;DR version - this would be okay for apartment dwellers, but the Google Smart Light Starter Kit featuring the C-Life by GE bulb is otherwise a 4-star smart speaker with tons of features and smarts paired with a \"smart\" lightbulb that isn\\'t exactly smart. Also, a bad value for its regular price, but the \"smart bulbs\" themselves are also a bad value compared to other superior options for around their same price point.',\n",
       " '----------------------------------------------------------------------------------------',\n",
       " \"The Google Smart Light Starter Kit will always look enticing to the unknowing consumer, because who doesn't like the idea of including a smart lightbulb (in this case, C-Life by GE) with a Google Home Mini smart speaker for a decent overall price compared to buying the speaker and a smart bulb by themselves?\",\n",
       " 'Looks can be deceiving.',\n",
       " \"I'm not going to talk much about the Google Home Mini (referred to as a GHM from here on out), because if you're reading this, chances are that you know it's a small smart speaker device that you can get answers to your questions from and control most home automation devices from nearly every manufacturer with. Unlike non-Google brand Google Assistant speakers, you can also use it with the FREE Google Voice VoIP phone service - just like with its big brothers, the Google Home and the Google Home Max - to make outgoing phone calls with terrific audio quality (but not to receive incoming calls or contact emergency services). With more and more abilities being added to Google Assistant, you can use it to order food, electronics, clothing, and more though various retailers that have embraced the service. It also functions as a Chromecast Audio receiver and can control your Chromecast-equipped TV, speakers, or your Android TV-based smart TV. If the next version of the GHM were to add an audio output, the GHM is the perfect small smart speaker in my book. But enough about that, because there are tons of reviews and articles about the GHM and how awesome it is.\",\n",
       " 'What I am going to talk about is the the other part of the package package. A decent enough smart speaker that I would give 4 stars to in its current iteration is brought down by what GE passes off as a \"smart\" bulb. For me, there\\'s not enough of a feature set here to justify calling it smart. While you can turn the bulb on and off and set its brightness via the Google Home app or through Google Assistant, that\\'s about it for the bulb\\'s \"smarts\".',\n",
       " \"It also uses a Bluetooth connection that requires the GHM that comes in the package; powering down the GHM it's paired to effectively makes the smart bulb the equivalent of a cheap LED bulb you'd pick up in your local hardware store, and Bluetooth's limited range compared to WiFi means the GHM and the bulb need to be placed in close proximity with each other. Metallic light fixtures, water pipes, HVAC ducting, and electrical wiring affect the usable range distance between the GHM and the bulb. A setup note for the C-Life bulb states that if you use multiple bulbs, they can create a mesh network, but all bulbs need to be placed within 40 feet of each other.\",\n",
       " \"The good about this kit is it's at least extremely easy to set up. You set up the GHM inside the Google Home app on your Android device (Kit Kat or later with a Bluetooth 4.0LE capability) or iOS (iPhone 5, iPod Touch 5, iPad 4rd Gen, or iPad Mini 2 or later device running iOS 10 or later), and then you're prompted by the Google Home app to pair the C by GE bulb to the GHM. Sorry PC and Mac users, you need a portable device to get this going.\",\n",
       " 'I did try to pair the bulb with other Google Assistant smart speakers I have that aren\\'t the GHM in the package via the Google Home app (I have 3 different brands, all with Bluetooth 4 connectivity). None of the other speakers were able to discover up the C-Life lightbulb, which means to use C-Life lightbulbs with Google Assistant, you pretty much need a GHM or other Google-branded smart speaker. If you\\'re looking at the \"Made for Google\" C-Life or C-Sleep bulbs and you have a non-Google brand Google Assistant speaker, it\\'s just not going to work.',\n",
       " \"The good news here, at least, is that you can control the bulb away from home as long as it maintains a connection with the GHM. My GHM and C-Life are located about 15 feet apart and the two devices have lost connection with each other a few times, but nothing a quick power cycle can't fix (in each case, it was always resetting the bulb).\",\n",
       " 'While the lightbulb can pair with the C by GE app for iPhone and Android, this also gives you a basic Bluetooth-connected remote controlled lightbulb and the inability to control it away from home. Because of this, I highly recommend that you stay completely away from GE\\'s app when it comes to this bulb, because you will have issues getting it to work with the GHM if you have previously paired it with the C by GE app. (I did try this by the way; it\\'s a major pain to unpair a C-Life bulb from any device because of the strangest on-off cycling pattern you need to follow to factory reset it.) Also, the bulbs can only pair with ONE device, be it a GHM or a phone. Once paired with a GHM, however, you can use multiple devices with the Google Home app installed to control the bulb; you\\'ll just need to do the \"Invite\" thing inside of the Google Home app so people on other Google accounts can use the C-Life bulb and all of the other smart devices you have under Google Home\\'s control.',\n",
       " 'The C by GE app also warns you that you should really pair the C-Life bulb with the GHM and not the app. (I ignored this warning in the name of science.)',\n",
       " \"Like I said, a decent 4-star speaker is brought down by a lightbulb pretending that it's smart. While I might recommend this for apartment dwellers, I highly recommend that you look into other ways of doing smart lighting in your home or apartment. WiFi-connected smart bulbs from other manufacturers are inexpensive and far more flexible. Lighting systems based on Z-Wave, ZigBee, Wink, and other protocols have greater range than the Bluetooth-connected C by GE lightbulbs. Finally, the GHM and other Google Assistant smart speakers can be had on the cheap. Now if you can find the Smart Light Starter Kit for the same price as a GHM by itself, then go for it since you'd get a free remote-controlled lightbulb. \",\n",
       " '«\\xa0less']"
      ]
     },
     "execution_count": 32,
     "metadata": {},
     "output_type": "execute_result"
    }
   ],
   "source": [
    "test8"
   ]
  },
  {
   "cell_type": "code",
   "execution_count": null,
   "metadata": {},
   "outputs": [],
   "source": []
  }
 ],
 "metadata": {
  "kernelspec": {
   "display_name": "Python 3",
   "language": "python",
   "name": "python3"
  },
  "language_info": {
   "codemirror_mode": {
    "name": "ipython",
    "version": 3
   },
   "file_extension": ".py",
   "mimetype": "text/x-python",
   "name": "python",
   "nbconvert_exporter": "python",
   "pygments_lexer": "ipython3",
   "version": "3.6.6rc1"
  }
 },
 "nbformat": 4,
 "nbformat_minor": 2
}
