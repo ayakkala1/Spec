{
 "cells": [
  {
   "cell_type": "markdown",
   "metadata": {},
   "source": [
    "Data is a little messy, there were some duplicates (6/3000) due to to weird things on amazon url changing and me having to do various calls to the scraping functions due to computer and amazon things. Comments scraping also s"
   ]
  },
  {
   "cell_type": "code",
   "execution_count": null,
   "metadata": {},
   "outputs": [],
   "source": [
    "import json \n",
    "import pandas as pd \n",
    "\n",
    "df = pd.read_json(\"amazon.json\")\n",
    "\n",
    "def flatten(a):\n",
    "    try:\n",
    "        return a[0]\n",
    "    except:\n",
    "        return a"
   ]
  },
  {
   "cell_type": "code",
   "execution_count": 2,
   "metadata": {},
   "outputs": [
    {
     "name": "stderr",
     "output_type": "stream",
     "text": [
      "/Library/Frameworks/Python.framework/Versions/3.6/lib/python3.6/site-packages/pandas/core/indexes/api.py:107: RuntimeWarning: '<' not supported between instances of 'str' and 'int', sort order is undefined for incomparable objects\n",
      "  result = result.union(other)\n",
      "/Library/Frameworks/Python.framework/Versions/3.6/lib/python3.6/site-packages/pandas/core/indexes/api.py:69: RuntimeWarning: '<' not supported between instances of 'int' and 'str', sort order is undefined for incomparable objects\n",
      "  index = _union_indexes(indexes, sort=sort)\n"
     ]
    }
   ],
   "source": [
    "A = df['ratings'].apply(pd.Series)\n",
    "B = df['reviews'].apply(flatten).apply(pd.Series)"
   ]
  },
  {
   "cell_type": "code",
   "execution_count": 3,
   "metadata": {},
   "outputs": [],
   "source": [
    "amazon_df = pd.concat([df.drop(['ratings', 'reviews'],axis=1),\n",
    "           A,B],axis = 1)"
   ]
  },
  {
   "cell_type": "code",
   "execution_count": 4,
   "metadata": {},
   "outputs": [],
   "source": [
    "clean_amazon = amazon_df.drop(labels=[\"error\",0],axis=1)"
   ]
  },
  {
   "cell_type": "code",
   "execution_count": 5,
   "metadata": {},
   "outputs": [],
   "source": [
    "clean_amazon = amazon_df.drop_duplicates(\"review_text\")"
   ]
  },
  {
   "cell_type": "code",
   "execution_count": 6,
   "metadata": {},
   "outputs": [
    {
     "data": {
      "text/html": [
       "<div>\n",
       "<style scoped>\n",
       "    .dataframe tbody tr th:only-of-type {\n",
       "        vertical-align: middle;\n",
       "    }\n",
       "\n",
       "    .dataframe tbody tr th {\n",
       "        vertical-align: top;\n",
       "    }\n",
       "\n",
       "    .dataframe thead th {\n",
       "        text-align: right;\n",
       "    }\n",
       "</style>\n",
       "<table border=\"1\" class=\"dataframe\">\n",
       "  <thead>\n",
       "    <tr style=\"text-align: right;\">\n",
       "      <th></th>\n",
       "      <th>name</th>\n",
       "      <th>price</th>\n",
       "      <th>url</th>\n",
       "      <th>5 star</th>\n",
       "      <th>4 star</th>\n",
       "      <th>3 star</th>\n",
       "      <th>2 star</th>\n",
       "      <th>1 star</th>\n",
       "      <th>review_comment_count</th>\n",
       "      <th>review_helpful</th>\n",
       "      <th>review_text</th>\n",
       "      <th>review_posted_date</th>\n",
       "      <th>review_header</th>\n",
       "      <th>review_rating</th>\n",
       "      <th>review_author</th>\n",
       "    </tr>\n",
       "  </thead>\n",
       "  <tbody>\n",
       "    <tr>\n",
       "      <th>0</th>\n",
       "      <td>Echo Dot (2nd Generation) - Smart speaker with...</td>\n",
       "      <td>$44.99</td>\n",
       "      <td>https://www.amazon.com/All-New-Amazon-Echo-Dot...</td>\n",
       "      <td>67%</td>\n",
       "      <td>14%</td>\n",
       "      <td>8%</td>\n",
       "      <td>4%</td>\n",
       "      <td>7%</td>\n",
       "      <td>6</td>\n",
       "      <td>413</td>\n",
       "      <td>So, I fired Siri today. I'm not sure she under...</td>\n",
       "      <td>24 Feb 2018</td>\n",
       "      <td>Divorced Siri</td>\n",
       "      <td>5.0</td>\n",
       "      <td>Simone</td>\n",
       "    </tr>\n",
       "    <tr>\n",
       "      <th>1</th>\n",
       "      <td>Echo Dot (2nd Generation) - Smart speaker with...</td>\n",
       "      <td>$44.99</td>\n",
       "      <td>https://www.amazon.com/All-New-Amazon-Echo-Dot...</td>\n",
       "      <td>67%</td>\n",
       "      <td>14%</td>\n",
       "      <td>8%</td>\n",
       "      <td>4%</td>\n",
       "      <td>7%</td>\n",
       "      <td>C</td>\n",
       "      <td>44</td>\n",
       "      <td>I really loved this device the first few month...</td>\n",
       "      <td>12 Oct 2017</td>\n",
       "      <td>I really loved this device the first few month...</td>\n",
       "      <td>1.0</td>\n",
       "      <td>Rose Gold</td>\n",
       "    </tr>\n",
       "    <tr>\n",
       "      <th>2</th>\n",
       "      <td>Echo Dot (2nd Generation) - Smart speaker with...</td>\n",
       "      <td>$44.99</td>\n",
       "      <td>https://www.amazon.com/All-New-Amazon-Echo-Dot...</td>\n",
       "      <td>67%</td>\n",
       "      <td>14%</td>\n",
       "      <td>8%</td>\n",
       "      <td>4%</td>\n",
       "      <td>7%</td>\n",
       "      <td>C</td>\n",
       "      <td>24</td>\n",
       "      <td>Omg! We love this thing! My husband is tech ch...</td>\n",
       "      <td>25 Mar 2018</td>\n",
       "      <td>Amazing helper after hubby's surgery</td>\n",
       "      <td>5.0</td>\n",
       "      <td>Grammy2</td>\n",
       "    </tr>\n",
       "    <tr>\n",
       "      <th>3</th>\n",
       "      <td>Echo Dot (2nd Generation) - Smart speaker with...</td>\n",
       "      <td>$44.99</td>\n",
       "      <td>https://www.amazon.com/All-New-Amazon-Echo-Dot...</td>\n",
       "      <td>67%</td>\n",
       "      <td>14%</td>\n",
       "      <td>8%</td>\n",
       "      <td>4%</td>\n",
       "      <td>7%</td>\n",
       "      <td>C</td>\n",
       "      <td>1,947</td>\n",
       "      <td>My Amazon Echo Dot does not require the user t...</td>\n",
       "      <td>05 Feb 2017</td>\n",
       "      <td>MAJOR SECURITY FLAW</td>\n",
       "      <td>1.0</td>\n",
       "      <td>Matthew Johnson</td>\n",
       "    </tr>\n",
       "    <tr>\n",
       "      <th>4</th>\n",
       "      <td>Echo Dot (2nd Generation) - Smart speaker with...</td>\n",
       "      <td>$44.99</td>\n",
       "      <td>https://www.amazon.com/All-New-Amazon-Echo-Dot...</td>\n",
       "      <td>67%</td>\n",
       "      <td>14%</td>\n",
       "      <td>8%</td>\n",
       "      <td>4%</td>\n",
       "      <td>7%</td>\n",
       "      <td>C</td>\n",
       "      <td>9</td>\n",
       "      <td>At the suggestion of a friend, I decided to tr...</td>\n",
       "      <td>25 Feb 2018</td>\n",
       "      <td>Just part of the total Smart Home Echo package.</td>\n",
       "      <td>5.0</td>\n",
       "      <td>T. K.</td>\n",
       "    </tr>\n",
       "  </tbody>\n",
       "</table>\n",
       "</div>"
      ],
      "text/plain": [
       "                                                name   price  \\\n",
       "0  Echo Dot (2nd Generation) - Smart speaker with...  $44.99   \n",
       "1  Echo Dot (2nd Generation) - Smart speaker with...  $44.99   \n",
       "2  Echo Dot (2nd Generation) - Smart speaker with...  $44.99   \n",
       "3  Echo Dot (2nd Generation) - Smart speaker with...  $44.99   \n",
       "4  Echo Dot (2nd Generation) - Smart speaker with...  $44.99   \n",
       "\n",
       "                                                 url 5 star 4 star 3 star  \\\n",
       "0  https://www.amazon.com/All-New-Amazon-Echo-Dot...    67%    14%     8%   \n",
       "1  https://www.amazon.com/All-New-Amazon-Echo-Dot...    67%    14%     8%   \n",
       "2  https://www.amazon.com/All-New-Amazon-Echo-Dot...    67%    14%     8%   \n",
       "3  https://www.amazon.com/All-New-Amazon-Echo-Dot...    67%    14%     8%   \n",
       "4  https://www.amazon.com/All-New-Amazon-Echo-Dot...    67%    14%     8%   \n",
       "\n",
       "  2 star 1 star review_comment_count review_helpful  \\\n",
       "0     4%     7%                    6            413   \n",
       "1     4%     7%                    C             44   \n",
       "2     4%     7%                    C             24   \n",
       "3     4%     7%                    C          1,947   \n",
       "4     4%     7%                    C              9   \n",
       "\n",
       "                                         review_text review_posted_date  \\\n",
       "0  So, I fired Siri today. I'm not sure she under...        24 Feb 2018   \n",
       "1  I really loved this device the first few month...        12 Oct 2017   \n",
       "2  Omg! We love this thing! My husband is tech ch...        25 Mar 2018   \n",
       "3  My Amazon Echo Dot does not require the user t...        05 Feb 2017   \n",
       "4  At the suggestion of a friend, I decided to tr...        25 Feb 2018   \n",
       "\n",
       "                                       review_header review_rating  \\\n",
       "0                                      Divorced Siri          5.0    \n",
       "1  I really loved this device the first few month...          1.0    \n",
       "2               Amazing helper after hubby's surgery          5.0    \n",
       "3                                MAJOR SECURITY FLAW          1.0    \n",
       "4    Just part of the total Smart Home Echo package.          5.0    \n",
       "\n",
       "     review_author  \n",
       "0           Simone  \n",
       "1        Rose Gold  \n",
       "2          Grammy2  \n",
       "3  Matthew Johnson  \n",
       "4            T. K.  "
      ]
     },
     "execution_count": 6,
     "metadata": {},
     "output_type": "execute_result"
    }
   ],
   "source": [
    "clean_amazon = clean_amazon.drop(labels=[\"error\",0],axis=1)\n",
    "clean_amazon.head()\n"
   ]
  },
  {
   "cell_type": "code",
   "execution_count": null,
   "metadata": {},
   "outputs": [],
   "source": []
  }
 ],
 "metadata": {
  "kernelspec": {
   "display_name": "Python 3",
   "language": "python",
   "name": "python3"
  },
  "language_info": {
   "codemirror_mode": {
    "name": "ipython",
    "version": 3
   },
   "file_extension": ".py",
   "mimetype": "text/x-python",
   "name": "python",
   "nbconvert_exporter": "python",
   "pygments_lexer": "ipython3",
   "version": "3.6.6rc1"
  }
 },
 "nbformat": 4,
 "nbformat_minor": 2
}
